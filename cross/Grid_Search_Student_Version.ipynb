{
  "nbformat": 4,
  "nbformat_minor": 0,
  "metadata": {
    "colab": {
      "provenance": []
    },
    "kernelspec": {
      "name": "python3",
      "display_name": "Python 3"
    },
    "language_info": {
      "name": "python"
    }
  },
  "cells": [
    {
      "cell_type": "markdown",
      "source": [
        "# Grid Search"
      ],
      "metadata": {
        "id": "zmxoHqOk9-2g"
      }
    },
    {
      "cell_type": "markdown",
      "source": [
        "In this section we are trying to utilize GridSearchCV function provided with Scikit-Learn in order to find the optimal paramters for a Random Forest Model.\n",
        "\n",
        "Please refer into following link to get some overall idea about GridSearchCV before prceeding into the excercise.\n",
        "\n",
        "GridSearchCV: https://scikit-learn.org/stable/modules/generated/sklearn.model_selection.GridSearchCV.html\n",
        "\n",
        "The following link provide information about Random Forest Classifer and its usage in Scikit-Learn library.\n",
        "\n",
        "RandomForest: https://scikit-learn.org/stable/modules/generated/sklearn.ensemble.RandomForestClassifier.html\n",
        "\n",
        "Furthermore, the following dataset will be utilized for the following task.\n",
        "\n",
        "Heart Disease Cleveland: https://www.kaggle.com/datasets/ritwikb3/heart-disease-cleveland"
      ],
      "metadata": {
        "id": "VVqVpbSuWOCm"
      }
    },
    {
      "cell_type": "code",
      "execution_count": null,
      "metadata": {
        "id": "N_GWF08lpCBN"
      },
      "outputs": [],
      "source": [
        "# Load the necesary libraries\n",
        "\n",
        "# Your code here"
      ]
    },
    {
      "cell_type": "code",
      "source": [
        "# suppress warning messages\n",
        "\n",
        "# Your code here"
      ],
      "metadata": {
        "id": "eBqGiLsbdt--"
      },
      "execution_count": null,
      "outputs": []
    },
    {
      "cell_type": "code",
      "source": [
        "# Load the dataset as a Pandas dataframe and display the head\n",
        "\n",
        "# Your code here"
      ],
      "metadata": {
        "id": "ymFkyfvUZGp6"
      },
      "execution_count": null,
      "outputs": []
    },
    {
      "cell_type": "code",
      "source": [
        "# Check for the null values\n",
        "\n",
        "# Your code here"
      ],
      "metadata": {
        "id": "52d6TNyOegLh"
      },
      "execution_count": null,
      "outputs": []
    },
    {
      "cell_type": "code",
      "source": [
        "# Seperate the feature columns and targer using pandas functions\n",
        "\n",
        "# Your code here"
      ],
      "metadata": {
        "id": "WNOkCmBJeqrR"
      },
      "execution_count": null,
      "outputs": []
    },
    {
      "cell_type": "code",
      "source": [
        "# Split dataset into train and test sets\n",
        "\n",
        "# Your code here"
      ],
      "metadata": {
        "id": "K2FMFhRhe4-F"
      },
      "execution_count": null,
      "outputs": []
    },
    {
      "cell_type": "code",
      "source": [
        "# Print train dataset size\n",
        "\n",
        "# Your code here"
      ],
      "metadata": {
        "id": "kGun28_YfSyF"
      },
      "execution_count": null,
      "outputs": []
    },
    {
      "cell_type": "code",
      "source": [
        "# Print test dataset size\n",
        "\n",
        "# Your code here"
      ],
      "metadata": {
        "id": "RYezCmpyfUiM"
      },
      "execution_count": null,
      "outputs": []
    },
    {
      "cell_type": "code",
      "source": [
        "# Scale the data using standard scaler\n",
        "\n",
        "# Your code here"
      ],
      "metadata": {
        "id": "f0T0fs1mgtdF"
      },
      "execution_count": null,
      "outputs": []
    },
    {
      "cell_type": "code",
      "source": [
        "# Define the random forest classifier with the default paramters\n",
        "\n",
        "# Your code here"
      ],
      "metadata": {
        "id": "1AZFHaIifi9d"
      },
      "execution_count": null,
      "outputs": []
    },
    {
      "cell_type": "code",
      "source": [
        "# Define the parameter grid for the grid search\n",
        "# Refer to the GridSearchCV Documentation\n",
        "\n",
        "# Your code here"
      ],
      "metadata": {
        "id": "P1n4n6BpgOVX"
      },
      "execution_count": null,
      "outputs": []
    },
    {
      "cell_type": "code",
      "source": [
        "# Peform Grid Search to identify optimal parameters\n",
        "# Use cv = 5\n",
        "\n",
        "# Your code here"
      ],
      "metadata": {
        "id": "rSR4IZIqghVF"
      },
      "execution_count": null,
      "outputs": []
    },
    {
      "cell_type": "code",
      "source": [
        "clf.fit(X_train_scaled, y_train)"
      ],
      "metadata": {
        "id": "OZSYH5nmgoD8"
      },
      "execution_count": null,
      "outputs": []
    },
    {
      "cell_type": "code",
      "source": [
        "# Print best hyperparameters detected from the Grid Search\n",
        "\n",
        "# Your code here"
      ],
      "metadata": {
        "id": "eGIAseRvhjym"
      },
      "execution_count": null,
      "outputs": []
    },
    {
      "cell_type": "code",
      "source": [
        "# Print the mean cross-validated score of the best_estimator\n",
        "\n",
        "# Your code here"
      ],
      "metadata": {
        "id": "3qF4-Rh_hwbN"
      },
      "execution_count": null,
      "outputs": []
    },
    {
      "cell_type": "code",
      "source": [
        "# Use best estimator to obtain the accuracy for the test set\n",
        "\n",
        "# Your code here"
      ],
      "metadata": {
        "id": "K2KH5XlFiMlM"
      },
      "execution_count": null,
      "outputs": []
    }
  ]
}